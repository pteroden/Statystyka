{
 "cells": [
  {
   "cell_type": "markdown",
   "metadata": {},
   "source": [
    "# Estymacja błędów odpornych\n",
    "\n",
    "Najczęściej nie znamy macierzy $\\Omega$ wymaganej do użycia [Uogólnionej Metody Najmniejszych Kwadratów](./UMNK.ipynb). Z tego powodu możemy skłonić się do zastosowania odpornych błędów standardowych.\n",
    "\n",
    "** Co tak naprawdę dają błędy odporne? **\n",
    "\n",
    "1. $Var(\\hat{\\beta}) = \\hat{\\sigma}^2(X^TX)^{-1}$ jest prawdziwy tylko pod warunkiem sferyczności reszt (homoskedastyczny + brak autokorelacji)\n",
    "\n",
    "2. Warunek przy heteroskedastyczności i autokorelacji jest niespełniony, przez co źle oszacowane są:\n",
    "> * błędy standardowe $S(\\hat{\\beta}_0)$ z przekątnej macierzy $Var(\\hat{\\beta})$\n",
    "> * źle obliczona statystyka $ t = \\dfrac{\\beta_i}{s(\\beta_i)} $\n",
    "> * niepoprawne wnioski co do istotności zmiennych.\n",
    "\n",
    "Pooniższe oszacowania reszt są alternatywne, lecz nie zmieniają one wyników estymacji a wpływają jedynie na ocenę precyzji szacunków parametrów oraz wnioski o istotności zmiennych. \n",
    "\n",
    "1. *Korekta White'a*\n",
    "> $\\Phi = diag[e^2_i]$\n",
    "\n",
    "2. *Korekta Hinckleya* (korekta White'a z uwzględnionymi stopniami swobody)\n",
    "> $HC1 = \\dfrac{N}{N-k}(X^TX)^{-1}diag[e^2_i]X(X^TX)^{-1} = \\dfrac{N}{N-k}HC0$\n",
    "\n",
    "3. *Estymator HC2*\n",
    "> $\\Phi = diag\\bigg[\\dfrac{e^2_i}{1-h_{ii}}\\bigg]$ gdzie $h_{ii}$\n",
    "\n",
    "4. *Estymator HC3*\n",
    "> $\\Phi = diag\\bigg[\\dfrac{e^2_i}{(1-h_{ii})^2}\\bigg]$ gdzie w obu przypadkach $h_{ii}$ jest odpowiadającym elementem macierzy $H = X(X^TX)^{-1}X^T$.\n",
    "\n",
    "5. *Estymator HC4 Cribari-Neto* (do małych próbek posiadających wartości odstające-dźwignie)"
   ]
  }
 ],
 "metadata": {
  "kernelspec": {
   "display_name": "Python 2",
   "language": "python",
   "name": "python2"
  },
  "language_info": {
   "codemirror_mode": {
    "name": "ipython",
    "version": 2
   },
   "file_extension": ".py",
   "mimetype": "text/x-python",
   "name": "python",
   "nbconvert_exporter": "python",
   "pygments_lexer": "ipython2",
   "version": "2.7.11"
  }
 },
 "nbformat": 4,
 "nbformat_minor": 0
}
