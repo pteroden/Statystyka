{
 "cells": [
  {
   "cell_type": "markdown",
   "metadata": {},
   "source": [
    "# Model logistyczny\n",
    "\n",
    "### Wstęp\n",
    "\n",
    "_Regresja logistyczna_ – jedna z metod regresji używanych w statystyce w przypadku, gdy zmienna przyjmuje tylko dwie wartości (binarna regresja logistyczna), jest wyrażona na skali nominalnej (wielomianowa regresja logistyczna) lub porządkowej (uporządkowana regresja logistyczna).\n",
    "\n",
    "Zwykle wartości zmiennej objaśnianej wskazują na wystąpienie lub brak wystąpienia pewnego zdarzenia, które chcemy prognozować. Regresja logistyczna pozwala wówczas na obliczanie prawdopodobieństwa tego zdarzenia (tzw. prawdopodobieństwo sukcesu).\n",
    "\n",
    "Formalnie model regresji logistycznej jest uogólnionym modelem liniowym (GLM), w którym użyto logitu jako funkcji wiążącej."
   ]
  },
  {
   "cell_type": "markdown",
   "metadata": {},
   "source": [
    "### Funkcja logistyczna\n",
    "\n",
    "Regresja logistyczna swoją nazwę zawdzięcza funkcji logistycznej, \n",
    "która argumentom $X$ ze skali z zakresu $(-\\infty​, \\infty)$ przypisuje wartość $Y$ z zakresu $(0, 1)$.\n",
    "Z tego względu idealnie nadaje się ona do powiązania prawdopodbieństwa zajścia jakiegoś \n",
    "zdarzenia $Y$ z wartościami pewnych zmiennych objaśniających $X$.\n",
    "\n",
    "Parametrem funkcji logistycznej jest parametr $t$, wyrażony jako przedział na osi $X$.\n",
    "Wzór na funkcję logistyczną:\n",
    "\n",
    "$$ \\sigma(t) = \\dfrac{e^t}{e^t + 1} = \\dfrac{1}{1 + e^{-t}} $$"
   ]
  },
  {
   "cell_type": "code",
   "execution_count": 1,
   "metadata": {
    "collapsed": false
   },
   "outputs": [
    {
     "data": {
      "image/png": "[encoded data removed]",
      "text/plain": [
       "<matplotlib.figure.Figure at 0xa18c710>"
      ]
     },
     "metadata": {},
     "output_type": "display_data"
    }
   ],
   "source": [
    "import matplotlib.pyplot as plt\n",
    "import numpy as np\n",
    "\n",
    "x = [float(t)/10 for t in range(-60, 61, 1)]\n",
    "y = [1/(1+np.e**(-t)) for t in x]\n",
    "\n",
    "%matplotlib inline\n",
    "plt.plot(x, y)\n",
    "plt.title(\"Wykres funkcji logistycznej w zakresie t (-6, 6)\")\n",
    "plt.ylabel(\"$\\sigma(t)$\")\n",
    "plt.xlabel(\"t\")\n",
    "plt.show()"
   ]
  },
  {
   "cell_type": "markdown",
   "metadata": {},
   "source": [
    "Gdy założymy, że parametr $t$ jest liniową funkcją zmiennej objaśniającej $x$, to możemy wyrazić $t$ jako:\n",
    "\n",
    "$$ t = \\beta_0 + \\beta_1x $$\n",
    "\n",
    "Stąd dostajemy wzór na funkcję logistyczną zależną od $x$:\n",
    "\n",
    "$$ F(x) = \\dfrac{1}{1+e^{-(\\beta_0 + \\beta_1x)}} $$\n",
    "\n",
    "Odwrotność takiej funkcji wyraża się logarytmem stosunku wartości funkcji $F(x)$ i jej dopełnienia $1-F(x)$, tzw. logitem. Z przekształcenia wynika, iż logit funkcji logistycznej jest liniowo zależny od $t$, tj. od liniowej funkcji zmiennnej objaśniającej $x$:\n",
    "\n",
    "$$ g(F(x)) = ln \\Big(\\dfrac{F(x)}{1-F(x)}\\Big) = \\beta_0 + \\beta_1x $$\n",
    "\n",
    "Dodatkowo, gdy obie strony pomnożymy przez eksponentę:\n",
    "\n",
    "$$ \\dfrac{F(x)}{1-F(x)}​ = e^{\\beta_0 + \\beta_1x} $$\n",
    "\n",
    "W ten sposób otrzymamy wielkość zwaną szansą:\n",
    "\n",
    "$$ odds = e^{\\beta_0 + \\beta_1x} $$\n",
    "\n",
    "Stosunek szans nazywamy ilorazem szans:\n",
    "\n",
    "$ OR = \\dfrac{odds(x+1)}{odds(x)} = \\dfrac{\\dfrac{F(x+1)}{1-F(x+1)}}{\\dfrac{F(x)}{1-F(x)}} = \\dfrac{e^{\\beta_0 + \\beta_1(x+1)}}{e^{\\beta_0 + \\beta_1x}} = e^{\\beta_1} $"
   ]
  },
  {
   "cell_type": "markdown",
   "metadata": {},
   "source": [
    "### Dlaczego logit?\n",
    "\n",
    "Przedmiotem zainteresowania jest modelowanie prawdopobieństwa. Jednak z punktu widzenia estymacji problematyczne jest szacowanie zmiennej przyjmującej tylko wartości z danego zakresu, w tym wypadku $(0,1)$. Dlatego też poszukujemy takiego przekształcenia, które pozwoliłoby nam szacować model dla zmiennej z przedziału $(-\\infty, \\infty)$. Idealnie również, \n",
    "gdyby takie przekształcenie było liniową funkcją zmiennych objaśniających.\n",
    "Obie te wymagania spełnia właśnie funkcja logistyczna, a ściślej jej przekształcenie zwane logitem. \n",
    "\n",
    "Wartość funkcji logistycznej $F(x)$ możemy interpretować jako prawdopodobieństwo przyjęcia pewnej wartości  biorąc pod uwagę liniową kombinację pewnych predyktorów. Dlatego możemy oznaczyć $F(x)$ z poprzednich wzorów jako prawdopodobieństwo $p$."
   ]
  },
  {
   "cell_type": "markdown",
   "metadata": {},
   "source": [
    "Szansą nazywamy stosunek prawdopodobieństwa zajścia zdarzenia do zdarzenia przeciwnego:\n",
    "\n",
    "$$ Odds = \\dfrac{p}{1-p} $$\n",
    "\n",
    "Dalej logit prawdopodobieństwa wyraża się wzorem:\n",
    "\n",
    "$$ logit(p) = ln\\frac{p}{1-p} = ln(p) - ln(1-p) $$\n",
    "\n",
    "Szansa przyjmuje wartości z zakresu $(0, +\\infty)$, a jej logarytm (logit) z zakresu $(-\\infty, \\infty)$. \n",
    "\n",
    "Z logitu możemy w łatwy sposób przejść z powrotem na prawdopodobieństwo zdarzenia:\n",
    "\n",
    "$$ p = \\dfrac{e^{logit(p)}}{1+e^{logit(p)}} = \\dfrac{1}{1+e^{-logit(p)}}$$\n",
    "\n",
    "Z tych powodów (wartości zmiennej zależnej nieograniczone, liniowość względem predyktorów i łatwość przejścia na oszacowanie prawdopodobieństwa) w regresji logistycznej używamy logitu prawdopodobieństwa jako zmiennej zależnej."
   ]
  },
  {
   "cell_type": "markdown",
   "metadata": {},
   "source": [
    "### Model binarnej regresji logistycznej.\n",
    "\n",
    "Binarna regresja logistyczna zakłada, że zmienna objaśniana ma rozkład dwupunktowy:\n",
    "\n",
    "$$ Y_i \\sim B(p_i,n_i) $$\n",
    "\n",
    "gdzie liczba prób w procesie Bernoulliego $n_i$ jest znana, a prawdopodobieństwo sukcesu $p_i$ jest nieznane.\n",
    "\n",
    "Model zakłada, że dla każdej próby Bernoulliego (wartość $i$), istnieje zbiór $k$ zmiennych objaśniających, które niosą pewną informację na temat prawdopodobieństwa sukcesu. Te zmienne objaśniające można uważać za k-elementowy wektor losowy $X_i$. Model przyjmuje wówczas postać:\n",
    "\n",
    "$$ p_i = \\left.E\\bigg(\\dfrac{Y_i}{n_i} \\right\\vert X_i\\bigg) $$\n",
    "\n",
    "Model posiada sformułowanie w postaci:\n",
    "\n",
    "$$ p_i = \\dfrac{1}{1+e^{-(\\beta_1x_{1,i} + ... + \\beta_kx_{k,i})}} $$\n",
    "\n",
    "Estymacji podlega logitowe przekształcenie modelu, liniowo zależne od zmiennych objaśniających:\n",
    "\n",
    "$$ logit(p_i) = ln\\Big(\\dfrac{p_i}{1-p_i}\\Big) = \\beta_1x_{1,i} + ... + \\beta_kx_{k,i} $$\n",
    "\n",
    "Do tak wyspecyfikowanego modelu dodaje się najcześciej jeszcze stałą (wyraz wolny $\\beta_0$). \n",
    "\n",
    "Wartości parametrów beta estymuje się za pomocą [Metody Największej Wiarygodności (MNW)](./podstawy/mnw.ipynb). \n",
    "\n",
    "Interpretacją szacowanego parametru $\\beta_j$ jest addytywny wpływ, jaki ma jednostkowa zmiana zmiennej $j$ na logarytm ilorazu szans, tj. wielkość $exp(\\beta_j)$. "
   ]
  }
 ],
 "metadata": {
  "celltoolbar": "Raw Cell Format",
  "kernelspec": {
   "display_name": "Python 2",
   "language": "python",
   "name": "python2"
  },
  "language_info": {
   "codemirror_mode": {
    "name": "ipython",
    "version": 2
   },
   "file_extension": ".py",
   "mimetype": "text/x-python",
   "name": "python",
   "nbconvert_exporter": "python",
   "pygments_lexer": "ipython2",
   "version": "2.7.11"
  }
 },
 "nbformat": 4,
 "nbformat_minor": 0
}
