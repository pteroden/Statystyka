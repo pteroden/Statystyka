{
 "cells": [
  {
   "cell_type": "markdown",
   "metadata": {},
   "source": [
    "### Uogólniona Metoda Najmniejszych Kwadratów\n",
    "\n",
    "$\\mathbb{E}(\\xi\\xi^T) = \\Phi = \\delta^2\\Omega$\n",
    "\n",
    "\n",
    "$\\qquad\\qquad\\qquad \\Phi = \\begin{bmatrix} \\delta^2_1 & 0 & \\cdots & 0 \\\\ 0 & \\delta^2_2 & \\cdots & 0 \\\\ \\vdots  & \\vdots  & \\ddots & \\vdots  \\\\ 0 & 0 & \\cdots & \\delta^2_T \\\\ \\end{bmatrix} \\qquad \\qquad \\qquad \\Omega = \\begin{bmatrix} \\omega_1 & 0 & \\cdots & 0 \\\\ 0 & \\omega_2 & \\cdots & 0 \\\\ \\vdots  & \\vdots  & \\ddots & \\vdots  \\\\ 0 & 0 & \\cdots & \\omega_T \\\\ \\end{bmatrix} $\n",
    "\n",
    "$ \\hat{b} = (X^T\\Omega^{-1}X)^{-1}X^T\\Omega^{-1}y $\n",
    "\n",
    "$ \\hat{b} = (X^{*T}X^*)^{-1}X^{*T}y^* $\n",
    "gdzie $X^* = PX, y^* = Py$\n",
    "\n",
    "$ \\beta^2 = (X^TX)^{-1}X^Ty $\n",
    "\n",
    "$ Var(\\hat{\\beta}) = (X^TX)^{-1}X^T\\Phi X(X^TX)^{-1} $\n",
    "\n",
    "$ \\Phi = \\sigma^2I $\n",
    "\n",
    "$ Var(\\hat{\\beta}) = \\sigma^2(X^TX)^{-1} $\n",
    "\n",
    "$ P = \\begin{bmatrix} \\dfrac{1}{\\sqrt{\\omega_1}} & 0 & \\cdots & 0 \\\\ 0 & \\dfrac{1}{\\sqrt{\\omega_2}} & \\cdots & 0 \\\\ \\vdots  & \\vdots  & \\ddots & \\vdots  \\\\ 0 & 0 & \\cdots & \\dfrac{1}{\\sqrt{\\omega_T}} \\\\ \\end{bmatrix} $"
   ]
  },
  {
   "cell_type": "markdown",
   "metadata": {},
   "source": []
  }
 ],
 "metadata": {
  "kernelspec": {
   "display_name": "Python 2",
   "language": "python",
   "name": "python2"
  },
  "language_info": {
   "codemirror_mode": {
    "name": "ipython",
    "version": 2
   },
   "file_extension": ".py",
   "mimetype": "text/x-python",
   "name": "python",
   "nbconvert_exporter": "python",
   "pygments_lexer": "ipython2",
   "version": "2.7.11"
  }
 },
 "nbformat": 4,
 "nbformat_minor": 0
}
